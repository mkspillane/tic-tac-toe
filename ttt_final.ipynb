{
 "cells": [
  {
   "cell_type": "code",
   "execution_count": 1,
   "metadata": {},
   "outputs": [
    {
     "name": "stderr",
     "output_type": "stream",
     "text": [
      "Using TensorFlow backend.\n"
     ]
    }
   ],
   "source": [
    "from keras.layers import Input, Dense, Activation, Conv2D, Flatten,Concatenate, Dropout\n",
    "from keras.models import Model\n",
    "from keras.models import Sequential\n",
    "from keras.optimizers import Adam\n",
    "import copy\n",
    "import numpy as np\n",
    "import pandas as pd\n",
    "from scipy import signal\n",
    "%run defs_ttt.ipynb"
   ]
  },
  {
   "cell_type": "markdown",
   "metadata": {},
   "source": [
    "We now define the model we will use.  It has 2 parts, a policy vector which gives probabilities for each move and an evaluation which is the expected value (-1,1) for player 1 in the given position."
   ]
  },
  {
   "cell_type": "markdown",
   "metadata": {},
   "source": []
  },
  {
   "cell_type": "code",
   "execution_count": 2,
   "metadata": {},
   "outputs": [
    {
     "name": "stdout",
     "output_type": "stream",
     "text": [
      "WARNING:tensorflow:From /Users/michaelspillane/anaconda3/lib/python3.7/site-packages/tensorflow/python/framework/op_def_library.py:263: colocate_with (from tensorflow.python.framework.ops) is deprecated and will be removed in a future version.\n",
      "Instructions for updating:\n",
      "Colocations handled automatically by placer.\n",
      "WARNING:tensorflow:From /Users/michaelspillane/anaconda3/lib/python3.7/site-packages/keras/backend/tensorflow_backend.py:3445: calling dropout (from tensorflow.python.ops.nn_ops) with keep_prob is deprecated and will be removed in a future version.\n",
      "Instructions for updating:\n",
      "Please use `rate` instead of `keep_prob`. Rate should be set to `rate = 1 - keep_prob`.\n"
     ]
    }
   ],
   "source": [
    "np.random.seed(1)\n",
    "\n",
    "board = Input(shape = (3,3,1),name = 'board')\n",
    "\n",
    "F1 = Flatten()(board)\n",
    "x = Dense(30, activation='relu')(F1)\n",
    "x = Dropout(.2)(x)\n",
    "x = Dense(30, activation='relu')(x)\n",
    "x = Dropout(.2)(x)\n",
    "x = Dense(30, activation='relu')(x)\n",
    "x = Dropout(.2)(x)\n",
    "x = Dense(9, activation='softmax')(x)\n",
    "\n",
    "y = Dense(15, activation='relu')(F1)\n",
    "y = Dropout(.2)(y)\n",
    "y = Dense(15, activation='relu')(y)\n",
    "y = Dropout(.2)(y)\n",
    "y = Dense(15, activation='relu')(y)\n",
    "y = Dropout(.2)(y)\n",
    "y = Dense(1, activation='tanh')(y)\n",
    "\n",
    "model = Model(inputs =[board],outputs = [x,y])\n",
    "\n",
    "optimizer = Adam(lr=0.0005, beta_1=0.9, beta_2=0.999, epsilon=1e-8)\n",
    "\n",
    "model.compile(optimizer=optimizer, loss=['binary_crossentropy','mean_squared_error'],loss_weights=[1,10])\n"
   ]
  },
  {
   "cell_type": "markdown",
   "metadata": {},
   "source": [
    "Next we simulate games using the policy and evaluation from the model.  At each step we use a Monte Carlo search tree from the given position.  The search tree takes in the policy weighted by how often that move has been made for each move as well as the current score along that branch.  These are combined in a linear fashion and chooses the highest move.  It then makes that move.  If the move has already been made it repeats the above step until it reaches a leaf node.  It then evaluates the position on the leave node using the model and backs that up through the tree.  It repeats this process 50-3 x move_number times.  Then makes a move randomly with probability equal to the percentage of times each move was made.  Finally, the game is transformed using all elements of the dihedral four group (3 rotations and 4 reflection + rotations) and the model is trained.  Finally, this process is repeated multiple times with a testing against random play after each train."
   ]
  },
  {
   "cell_type": "code",
   "execution_count": 3,
   "metadata": {},
   "outputs": [
    {
     "name": "stdout",
     "output_type": "stream",
     "text": [
      "WARNING:tensorflow:From /Users/michaelspillane/anaconda3/lib/python3.7/site-packages/tensorflow/python/ops/math_ops.py:3066: to_int32 (from tensorflow.python.ops.math_ops) is deprecated and will be removed in a future version.\n",
      "Instructions for updating:\n",
      "Use tf.cast instead.\n",
      "[[0.587]\n",
      " [0.364]\n",
      " [0.049]]\n",
      "[[0.576]\n",
      " [0.352]\n",
      " [0.072]]\n",
      "[[0.682]\n",
      " [0.219]\n",
      " [0.099]]\n",
      "[[0.575]\n",
      " [0.227]\n",
      " [0.198]]\n",
      "[[0.461]\n",
      " [0.272]\n",
      " [0.267]]\n",
      "[[0.73 ]\n",
      " [0.193]\n",
      " [0.077]]\n",
      "[[0.799]\n",
      " [0.131]\n",
      " [0.07 ]]\n",
      "[[0.718]\n",
      " [0.19 ]\n",
      " [0.092]]\n",
      "[[0.719]\n",
      " [0.164]\n",
      " [0.117]]\n",
      "[[0.692]\n",
      " [0.204]\n",
      " [0.104]]\n",
      "[[0.777]\n",
      " [0.167]\n",
      " [0.056]]\n"
     ]
    }
   ],
   "source": [
    "test_scores = np.zeros((3,12))\n",
    "total_games = np.zeros((1,12))\n",
    "test_scores[:,0] = testing(model).flatten()\n",
    "for n0 in range(11):\n",
    "    b_size = 1+n0//2\n",
    "    total_games[0,n0+1] = total_games[0,n0]+b_size\n",
    "    for n1 in range(b_size):\n",
    "        X_train1 = np.zeros((b_size*10,3,3,1),dtype = int)\n",
    "        X_train2 = np.zeros((b_size*10,3,3,1),dtype = int)\n",
    "        X_train3 = np.zeros((b_size*10,3,3,1),dtype = int)\n",
    "        X_train4 = np.zeros((b_size*10,3,3,1),dtype = int)\n",
    "        X_train5 = np.zeros((b_size*10,3,3,1),dtype = int)\n",
    "        X_train6 = np.zeros((b_size*10,3,3,1),dtype = int)\n",
    "        X_train7 = np.zeros((b_size*10,3,3,1),dtype = int)\n",
    "        X_train8 = np.zeros((b_size*10,3,3,1),dtype = int)\n",
    "        y_results = np.zeros((1,b_size*10))\n",
    "        y_moves = np.zeros((b_size*10,9))\n",
    "        l = 0\n",
    "\n",
    "        for n1 in range(b_size):\n",
    "            df = pd.DataFrame({'path':[[0]*9],'N': [np.zeros((1,9),dtype = int)], 'W': [np.zeros((1,9))],'player':0,'roll':[1]})\n",
    "\n",
    "            X=np.zeros((3,3,2),dtype = 'int')\n",
    "\n",
    "            X_game = np.zeros((10,3,3,2),dtype = int)\n",
    "            X_move = np.zeros((9,10))\n",
    "            result = np.zeros((1,10))\n",
    "\n",
    "\n",
    "            turn = -1\n",
    "            winner = 0\n",
    "            while winner == 0:\n",
    "                X_temp = copy.deepcopy(X)\n",
    "                turn+=1\n",
    "                dF = rollout2(X,model,df,num=50-3*np.sum(X))\n",
    "\n",
    "                X_game[turn,:,:,:] = X\n",
    "                dfN = dF[dF.apply(lambda row: list(row.path)==[0]*9,axis=1)].N.iloc[0]\n",
    "                dfW = dF[dF.apply(lambda row: list(row.path)==[0]*9,axis=1)].W.iloc[0]\n",
    "                X_move[:,turn] = dfN/np.sum(dfN)\n",
    "\n",
    "                result[:,turn] = np.sum(dfW)/np.sum(dfN)\n",
    "                pos = np.zeros((1,9),dtype='int')\n",
    "\n",
    "                temp = np.random.choice(9, 1, p=(dfN/np.sum(dfN)).ravel())[0]\n",
    "                pos[0,temp] +=1\n",
    "\n",
    "                X[:,:,np.sum(X[:,:,0]-X[:,:,1])%2] += pos.reshape((3,3))\n",
    "                winner = win_check(X,winner)\n",
    "                if winner == 0:\n",
    "                    pp = np.zeros((9),dtype='int')\n",
    "                    pp[np.sum(X)-1] = temp+1\n",
    "\n",
    "                    dF.path = dF.path - pp\n",
    "\n",
    "                    df = dF[dF.apply(lambda row: row.path[np.sum(X)-1]==0,axis=1)]\n",
    "                else:\n",
    "                    pass\n",
    "\n",
    "            X_train1[l:l+turn+2,:,:,:] = (X_game[0:turn+2,:,:,0]-X_game[0:turn+2,:,:,1]).reshape((turn+2,3,3,1))\n",
    "            X_train2[l:l+turn+2,:,:,:] = (np.flip(X_game[0:turn+2,:,:,0]-X_game[0:turn+2,:,:,1],axis = 1)).reshape((turn+2,3,3,1))\n",
    "            X_train3[l:l+turn+2,:,:,:] = (np.flip(X_game[0:turn+2,:,:,0]-X_game[0:turn+2,:,:,1],axis = 2)).reshape((turn+2,3,3,1))\n",
    "            X_train4[l:l+turn+2,:,:,:] = (np.flip(np.flip(X_game[0:turn+2,:,:,0]-X_game[0:turn+2,:,:,1],axis = 2),axis=1)).reshape((turn+2,3,3,1))\n",
    "            X_train5[l:l+turn+2,:,:,:] = (np.rot90(X_game[0:turn+2,:,:,0]-X_game[0:turn+2,:,:,1],axes = (1,2),k=1)).reshape((turn+2,3,3,1))\n",
    "            X_train6[l:l+turn+2,:,:,:] = (np.rot90(X_game[0:turn+2,:,:,0]-X_game[0:turn+2,:,:,1],axes = (1,2),k=-1)).reshape((turn+2,3,3,1))\n",
    "            X_train7[l:l+turn+2,:,:,:] = (np.rot90(np.flip(X_game[0:turn+2,:,:,0]-X_game[0:turn+2,:,:,1],axis = 2),axes=(1,2),k=1)).reshape((turn+2,3,3,1))\n",
    "            X_train8[l:l+turn+2,:,:,:] = (np.rot90(np.flip(X_game[0:turn+2,:,:,0]-X_game[0:turn+2,:,:,1],axis = 2),axes=(1,2),k=-1)).reshape((turn+2,3,3,1))\n",
    "\n",
    "\n",
    "\n",
    "            y_results[:,l:l+turn+2] = result[:,0:turn+2]\n",
    "            y_moves[l:l+turn+2,:] = X_move[:,0:turn+2].T\n",
    "            l = l+turn+2\n",
    "    \n",
    "    X_train = np.concatenate((X_train1[0:l,:].reshape((l,3,3,1)),X_train2[0:l,:].reshape((l,3,3,1)),\n",
    "                              X_train3[0:l,:].reshape((l,3,3,1)),X_train4[0:l,:].reshape((l,3,3,1)),\n",
    "                              X_train5[0:l,:].reshape((l,3,3,1)),X_train6[0:l,:].reshape((l,3,3,1)),\n",
    "                              X_train7[0:l,:].reshape((l,3,3,1)),X_train8[0:l,:].reshape((l,3,3,1))))\n",
    "    y_moves1 = y_moves[0:l,:]\n",
    "    y_moves2 = np.flip(y_moves[0:l,:].reshape(l,3,3),axis=1).reshape((l,9))\n",
    "    y_moves3 = np.flip(y_moves[0:l,:].reshape(l,3,3),axis=2).reshape((l,9))\n",
    "    y_moves4 = np.flip(np.flip(y_moves[0:l,:].reshape(l,3,3),axis=2),axis=1).reshape((l,9))\n",
    "    y_moves5 = np.rot90(y_moves[0:l,:].reshape(l,3,3),axes = (1,2),k=1).reshape((l,9))\n",
    "    y_moves6 = np.rot90(y_moves[0:l,:].reshape(l,3,3),axes = (1,2),k=1).reshape((l,9))\n",
    "    y_moves7 = np.rot90(np.flip(y_moves[0:l,:].reshape(l,3,3),axis=2),axes=(1,2),k=1).reshape((l,9))\n",
    "    y_moves8 = np.rot90(np.flip(y_moves[0:l,:].reshape(l,3,3),axis=2),axes=(1,2),k=-1).reshape((l,9))\n",
    "    Y_moves = np.concatenate((y_moves1,y_moves2,y_moves3,y_moves4,\n",
    "                             y_moves5,y_moves6,y_moves7,y_moves8))\n",
    "    Y_results = np.concatenate((y_results[:,0:l].T,y_results[:,0:l].T,y_results[:,0:l].T,y_results[:,0:l].T,\n",
    "                               y_results[:,0:l].T,y_results[:,0:l].T,y_results[:,0:l].T,y_results[:,0:l].T))\n",
    "    \n",
    "    model.fit(X_train, [Y_moves, Y_results],epochs=200,verbose=0)\n",
    "    print(testing(model))\n",
    "    test_scores[:,n0+1] = testing(model).flatten()"
   ]
  },
  {
   "cell_type": "code",
   "execution_count": null,
   "metadata": {},
   "outputs": [],
   "source": [
    "np.savetxt(\"test_scores.csv\", test_scores, delimiter=\",\")\n",
    "np.savetxt(\"total_games.csv\", total_games, delimiter=\",\")\n"
   ]
  },
  {
   "cell_type": "code",
   "execution_count": null,
   "metadata": {},
   "outputs": [],
   "source": [
    "Y = np.loadtxt(\"test_scores.csv\",delimiter=\",\", dtype='str').astype(np.float)\n",
    "X = np.loadtxt(\"total_games.csv\",delimiter=\",\", dtype='str').astype(np.float)"
   ]
  },
  {
   "cell_type": "code",
   "execution_count": null,
   "metadata": {},
   "outputs": [],
   "source": [
    "%matplotlib inline\n",
    "from matplotlib import pyplot as plt\n",
    "fig = plt.figure()\n",
    "ax = fig.add_axes([0,0,1,1])\n",
    "ax.plot(X,Y[0,:],label = 'win')\n",
    "ax.plot(X,Y[1,:],label = 'lose')\n",
    "ax.plot(X,Y[2,:],label = 'draw')\n",
    "ax.set_xlabel('games played')\n",
    "ax.set_ylabel('percentage')\n",
    "ax.set_title('results against random play')\n",
    "ax.legend()\n",
    "plt.show()"
   ]
  },
  {
   "cell_type": "code",
   "execution_count": 4,
   "metadata": {},
   "outputs": [],
   "source": [
    "model.save('ttt_model')"
   ]
  },
  {
   "cell_type": "code",
   "execution_count": null,
   "metadata": {},
   "outputs": [],
   "source": []
  }
 ],
 "metadata": {
  "kernelspec": {
   "display_name": "Python 3",
   "language": "python",
   "name": "python3"
  },
  "language_info": {
   "codemirror_mode": {
    "name": "ipython",
    "version": 3
   },
   "file_extension": ".py",
   "mimetype": "text/x-python",
   "name": "python",
   "nbconvert_exporter": "python",
   "pygments_lexer": "ipython3",
   "version": "3.7.3"
  }
 },
 "nbformat": 4,
 "nbformat_minor": 2
}
